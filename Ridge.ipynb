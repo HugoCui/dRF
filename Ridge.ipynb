{
 "cells": [
  {
   "cell_type": "code",
   "execution_count": 1,
   "id": "hollow-father",
   "metadata": {},
   "outputs": [],
   "source": [
    "import numpy as np\n",
    "from scipy.integrate import quad\n",
    "import matplotlib.pyplot as plt\n",
    "import sys\n",
    "\n",
    "\n",
    "sys.path.insert(1, '../g3m_utils/')\n",
    "from state_evolution.data_models.custom import Custom,CustomSpectra\n",
    "from state_evolution.experiments.learning_curve import CustomExperiment\n",
    "import pandas as pd\n",
    "from scipy.special import erf\n",
    "import pickle"
   ]
  },
  {
   "cell_type": "code",
   "execution_count": 2,
   "id": "entitled-addition",
   "metadata": {},
   "outputs": [],
   "source": [
    "d=600\n",
    "k1=2400\n",
    "k2=2400\n",
    "kt=1200"
   ]
  },
  {
   "cell_type": "code",
   "execution_count": 3,
   "id": "satisfied-celebration",
   "metadata": {},
   "outputs": [],
   "source": [
    "Sigma=np.ones(d) #covariance matrix of data\n",
    "\n",
    "def door(x):\n",
    "    return np.sign(x)*np.minimum(np.abs(x),2)*1.1"
   ]
  },
  {
   "cell_type": "code",
   "execution_count": 4,
   "id": "scenic-monster",
   "metadata": {},
   "outputs": [
    {
     "name": "stdout",
     "output_type": "stream",
     "text": [
      "var1=0.3942944903978409 var2=0.23645041049929583\n"
     ]
    }
   ],
   "source": [
    "activ=\"tanh\"\n",
    "\n",
    "f1=lambda x: np.tanh(x)\n",
    "f2=lambda x: f1(x)#erf(x)\n",
    "\n",
    "r_1=np.mean(Sigma)\n",
    "\n",
    "k1_1=quad(lambda x: np.exp(-.5*x**2/r_1)*x*f1(x)/np.sqrt(2*np.pi*r_1),-np.inf,np.inf)[0]/r_1\n",
    "var_1=quad(lambda x: np.exp(-.5*x**2/r_1)*f1(x)**2/np.sqrt(2*np.pi*r_1),-np.inf,np.inf)[0]\n",
    "ks_1=np.sqrt(var_1-r_1*k1_1**2)\n",
    "\n",
    "r_2=var_1\n",
    "k1_2=quad(lambda x: np.exp(-.5*x**2/r_2)*x*f2(x)/np.sqrt(2*np.pi*r_2),-np.inf,np.inf)[0]/r_2\n",
    "var_2=quad(lambda x: np.exp(-.5*x**2/r_2)*f2(x)**2/np.sqrt(2*np.pi*r_2),-np.inf,np.inf)[0]\n",
    "ks_2=np.sqrt(var_2-r_2*k1_2**2)\n",
    "\n",
    "print(\"var1={} var2={}\".format(var_1,var_2))"
   ]
  },
  {
   "cell_type": "code",
   "execution_count": 5,
   "id": "impossible-constitutional",
   "metadata": {},
   "outputs": [],
   "source": [
    "teacher_activ=\"sign\"\n",
    "\n",
    "ft=lambda x:  np.sign(x)\n",
    "\n",
    "rt=np.mean(Sigma)\n",
    "\n",
    "k1_t=quad(lambda x: np.exp(-.5*x**2/rt)*x*ft(x)/np.sqrt(2*np.pi*rt),-np.inf,np.inf)[0]/rt\n",
    "var_t=quad(lambda x: np.exp(-.5*x**2/rt)*ft(x)**2/np.sqrt(2*np.pi*rt),-np.inf,np.inf)[0]\n",
    "ks_t=np.sqrt(np.maximum(var_t-rt*k1_t**2,0))"
   ]
  },
  {
   "cell_type": "code",
   "execution_count": 6,
   "id": "pharmaceutical-necklace",
   "metadata": {},
   "outputs": [
    {
     "name": "stdout",
     "output_type": "stream",
     "text": [
      "teacher r=1.0 k1=0.7978845608028652 ks=0.602810274989087\n",
      "\n",
      "layer #1 r=1.0 k1=0.6057055096021587 ks=0.16557574108374126\n",
      "\n",
      "layer #2 r=0.3942944903978409 k1=0.7635495895007043 ks=0.08107760388474508\n"
     ]
    }
   ],
   "source": [
    "print(\"teacher r={} k1={} ks={}\\n\".format(rt,k1_t,ks_t))\n",
    "print(\"layer #1 r={} k1={} ks={}\\n\".format(r_1,k1_1,ks_1))\n",
    "print(\"layer #2 r={} k1={} ks={}\".format(r_2,k1_2,ks_2))"
   ]
  },
  {
   "cell_type": "code",
   "execution_count": 9,
   "id": "institutional-rebate",
   "metadata": {},
   "outputs": [],
   "source": [
    "\n",
    "theta=np.random.randn(kt)/np.sqrt(kt)\n",
    "Wt=np.random.randn(kt,d)/np.sqrt(d)\n",
    "\n",
    "\n",
    "if teacher_activ==\"id\":\n",
    "    kt=d\n",
    "    theta=np.random.randn(kt)/np.sqrt(kt)\n",
    "    Wt=np.eye(d)\n",
    "\n",
    "\n",
    "\n",
    "W1=np.random.randn(k1,d)/np.sqrt(d)\n",
    "W2=np.random.randn(k2,k1)/np.sqrt(k1)"
   ]
  },
  {
   "cell_type": "code",
   "execution_count": 10,
   "id": "lonely-coupon",
   "metadata": {},
   "outputs": [],
   "source": [
    "\n",
    "\n",
    "Omega=k1_2**2*k1_1**2*(W2@W1@np.diag(Sigma)@W1.T@W2.T)+k1_2**2*ks_1**2*W2@W2.T+ks_2**2*np.eye(k2)  "
   ]
  },
  {
   "cell_type": "code",
   "execution_count": 11,
   "id": "duplicate-telephone",
   "metadata": {},
   "outputs": [],
   "source": [
    "Phi=k1_1*k1_2*k1_t*W2@W1@np.diag(Sigma)@Wt.T\n"
   ]
  },
  {
   "cell_type": "code",
   "execution_count": 13,
   "id": "differential-shopper",
   "metadata": {},
   "outputs": [],
   "source": [
    "Psi=k1_t**2*Wt@np.diag(Sigma)@Wt.T+ks_t**2*np.eye(kt)\n"
   ]
  },
  {
   "cell_type": "code",
   "execution_count": 14,
   "id": "returning-taxation",
   "metadata": {},
   "outputs": [],
   "source": [
    "def replica(alphas,Psi,Omega, Phi,lamb=0.1,verbose=False):   \n",
    "    \n",
    "    data_model=Custom(\n",
    "                     teacher_teacher_cov=Psi,\n",
    "                     student_student_cov=Omega,\n",
    "                     teacher_student_cov=Phi,\n",
    "                     teacher=theta.flatten()*np.sqrt(kt),\n",
    "                     fixed_teacher=True)\n",
    "    experiment = CustomExperiment(task = 'ridge_regression', \n",
    "                                  regularisation = lamb, \n",
    "                                  data_model = data_model, \n",
    "                                  tolerance = 1e-9, \n",
    "                                  damping = 0.5, \n",
    "                                  verbose = verbose, \n",
    "                                  max_steps = 10000)\n",
    "    experiment.learning_curve(alphas =[alphas[0]])\n",
    "    replicas=experiment.get_curve()\n",
    "\n",
    "\n",
    "    for i in range(1,len(alphas)):\n",
    "        experiment = CustomExperiment(task = 'ridge_regression', \n",
    "                                  regularisation = lamb, \n",
    "                                  data_model = data_model, \n",
    "                                  tolerance = 1e-9, \n",
    "                                  damping = 0.5, \n",
    "                                  verbose = verbose, \n",
    "                                  max_steps = 10000)\n",
    "        experiment.learning_curve(alphas =[alphas[i]])\n",
    "        replicas=pd.concat([replicas,experiment.get_curve()])\n",
    "\n",
    "    \n",
    "    return replicas"
   ]
  },
  {
   "cell_type": "code",
   "execution_count": 18,
   "id": "pregnant-honduras",
   "metadata": {},
   "outputs": [],
   "source": [
    "alphas=np.linspace(0.1,8,20)*d/k2"
   ]
  },
  {
   "cell_type": "code",
   "execution_count": 19,
   "id": "resident-madrid",
   "metadata": {},
   "outputs": [],
   "source": [
    "lamb=0.001"
   ]
  },
  {
   "cell_type": "code",
   "execution_count": null,
   "id": "amended-florist",
   "metadata": {},
   "outputs": [],
   "source": [
    "repl=replica(alphas,Psi,Omega, Phi,lamb=lamb)"
   ]
  },
  {
   "cell_type": "code",
   "execution_count": null,
   "id": "retired-ethnic",
   "metadata": {
    "scrolled": true
   },
   "outputs": [],
   "source": [
    "plt.plot(repl[\"sample_complexity\"],repl[\"test_error\"])\n"
   ]
  }
 ],
 "metadata": {
  "kernelspec": {
   "display_name": "Python 3",
   "language": "python",
   "name": "python3"
  },
  "language_info": {
   "codemirror_mode": {
    "name": "ipython",
    "version": 3
   },
   "file_extension": ".py",
   "mimetype": "text/x-python",
   "name": "python",
   "nbconvert_exporter": "python",
   "pygments_lexer": "ipython3",
   "version": "3.8.8"
  }
 },
 "nbformat": 4,
 "nbformat_minor": 5
}
