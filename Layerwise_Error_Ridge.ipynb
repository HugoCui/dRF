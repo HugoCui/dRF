{
 "cells": [
  {
   "cell_type": "code",
   "execution_count": 1,
   "id": "hollow-father",
   "metadata": {},
   "outputs": [],
   "source": [
    "import numpy as np\n",
    "from scipy.integrate import quad\n",
    "import matplotlib.pyplot as plt\n",
    "import sys\n",
    "sys.path.insert(1, '../g3m_utils/')\n",
    "from state_evolution.data_models.custom import Custom,CustomSpectra\n",
    "from state_evolution.experiments.learning_curve import CustomExperiment\n",
    "import pandas as pd\n",
    "from scipy.special import erf\n",
    "from scipy.optimize import minimize_scalar\n",
    "import pickle\n"
   ]
  },
  {
   "cell_type": "code",
   "execution_count": 2,
   "id": "rocky-season",
   "metadata": {},
   "outputs": [],
   "source": [
    "from cycler import cycler\n",
    "from matplotlib.pyplot import cm\n",
    "double_plasma=[col for col in cm.plasma(np.linspace(0, 1, 5)) for _ in range(2)]\n",
    "plt.rc('axes', prop_cycle=(cycler(color=cm.plasma(np.linspace(0, 1, 8)) )))"
   ]
  },
  {
   "cell_type": "code",
   "execution_count": 3,
   "id": "julian-regular",
   "metadata": {},
   "outputs": [],
   "source": [
    "def door(x):\n",
    "    return np.sign(x)*np.minimum(np.abs(x),2)*1.1"
   ]
  },
  {
   "cell_type": "code",
   "execution_count": 4,
   "id": "entitled-addition",
   "metadata": {},
   "outputs": [],
   "source": [
    "d=600\n",
    "k=2400\n",
    "kt=1200"
   ]
  },
  {
   "cell_type": "code",
   "execution_count": 5,
   "id": "satisfied-celebration",
   "metadata": {},
   "outputs": [],
   "source": [
    "Sigma=np.ones(d) #covariance matrix of data"
   ]
  },
  {
   "cell_type": "code",
   "execution_count": 6,
   "id": "returning-taxation",
   "metadata": {},
   "outputs": [],
   "source": [
    "def replica(alphas,Psi,Omega, Phi,theta,lamb=0.1,verbose=False):   \n",
    "    \n",
    "    data_model=Custom(\n",
    "                     teacher_teacher_cov=Psi,\n",
    "                     student_student_cov=Omega,\n",
    "                     teacher_student_cov=Phi,\n",
    "                     teacher=theta.flatten()*np.sqrt(kt),\n",
    "                     fixed_teacher=True)\n",
    "\n",
    "    \n",
    "    experiment = CustomExperiment(task = 'ridge_regression', \n",
    "                                      regularisation = lamb, \n",
    "                                      data_model = data_model, \n",
    "                                      tolerance = 1e-9, \n",
    "                                      damping = 0.5, \n",
    "                                      verbose = verbose, \n",
    "                                      max_steps = 10000)\n",
    "    \n",
    "    experiment.learning_curve(alphas =[alphas[0]])\n",
    "    replicas=experiment.get_curve()\n",
    "    \n",
    "    \n",
    "\n",
    "\n",
    "    for i in range(1,len(alphas)):\n",
    "\n",
    "        \n",
    "        experiment = CustomExperiment(task = 'ridge_regression', \n",
    "                                  regularisation = lamb, \n",
    "                                  data_model = data_model, \n",
    "                                  tolerance = 1e-9, \n",
    "                                  damping = 0.5, \n",
    "                                  verbose = verbose, \n",
    "                                  max_steps = 10000)\n",
    "        experiment.learning_curve(alphas =[alphas[i]])\n",
    "        replicas=pd.concat([replicas,experiment.get_curve()])\n",
    "\n",
    "    \n",
    "    return replicas"
   ]
  },
  {
   "cell_type": "code",
   "execution_count": 7,
   "id": "settled-species",
   "metadata": {},
   "outputs": [],
   "source": [
    "activ=\"door\"\n",
    "\n",
    "g1=lambda x: door(x)\n",
    "\n",
    "r_1=np.mean(Sigma)\n",
    "k1=quad(lambda x: np.exp(-.5*x**2/r_1)*x*g1(x)/np.sqrt(2*np.pi*r_1),-np.inf,np.inf)[0]/r_1\n",
    "norm=quad(lambda x: np.exp(-.5*x**2/r_1)*g1(x)**2/np.sqrt(2*np.pi*r_1),-np.inf,np.inf)[0]\n",
    "\n",
    "\n",
    "f1=lambda x: g1(x)\n",
    "\n",
    "\n"
   ]
  },
  {
   "cell_type": "code",
   "execution_count": 9,
   "id": "personalized-power",
   "metadata": {},
   "outputs": [],
   "source": [
    "np.random.seed(42)\n",
    "theta=np.random.randn(kt)/np.sqrt(kt)\n",
    "Wt=np.random.randn(kt,d)/np.sqrt(d)\n",
    "\n",
    "Ws=[np.random.randn(k,d)/np.sqrt(d)]\n",
    "for i in range(9):\n",
    "    Ws.append(np.random.randn(k,k)/np.sqrt(k))"
   ]
  },
  {
   "cell_type": "code",
   "execution_count": 10,
   "id": "novel-stadium",
   "metadata": {},
   "outputs": [],
   "source": [
    "teacher_activ=\"sign\"\n",
    "\n",
    "ft=lambda x:  np.sign(x)\n",
    "\n",
    "rt=np.mean(Sigma)\n",
    "\n",
    "k1_t=quad(lambda x: np.exp(-.5*x**2/rt)*x*ft(x)/np.sqrt(2*np.pi*rt),-np.inf,np.inf)[0]/rt\n",
    "var_t=quad(lambda x: np.exp(-.5*x**2/rt)*ft(x)**2/np.sqrt(2*np.pi*rt),-np.inf,np.inf)[0]\n",
    "ks_t=np.sqrt(np.maximum(var_t-rt*k1_t**2,0))\n",
    "\n",
    "\n",
    "Psi=k1_t**2*Wt@np.diag(Sigma)@Wt.T+ks_t**2*np.eye(kt)\n"
   ]
  },
  {
   "cell_type": "code",
   "execution_count": 11,
   "id": "tight-evidence",
   "metadata": {},
   "outputs": [
    {
     "name": "stdout",
     "output_type": "stream",
     "text": [
      "Computing error at layer L= 1\n",
      "Computing error at layer L= 2\n",
      "Computing error at layer L= 3\n",
      "Computing error at layer L= 4\n",
      "Computing error at layer L= 5\n",
      "Computing error at layer L= 6\n"
     ]
    }
   ],
   "source": [
    "max_layer=6\n",
    "r=np.mean(Sigma)\n",
    "\n",
    "lamb=0.001\n",
    "\n",
    "alphas=np.linspace(0.1,8,150)\n",
    "\n",
    "Omega=(np.diag(Sigma)).copy()\n",
    "Phi=(k1_t*np.diag(Sigma)@Wt.T).copy()\n",
    "\n",
    "errors={}\n",
    "\n",
    "\n",
    "\n",
    "for L in range(1,max_layer+1,1):\n",
    "    print(\"Computing error at layer L=\",L)\n",
    "    \n",
    "    k1=quad(lambda x: np.exp(-.5*x**2/r)*x*f1(x)/np.sqrt(2*np.pi*r),-np.inf,np.inf)[0]/r\n",
    "    var=quad(lambda x: np.exp(-.5*x**2/r)*f1(x)**2/np.sqrt(2*np.pi*r),-np.inf,np.inf)[0]\n",
    "    ks=np.sqrt(np.abs(var-r*k1**2))\n",
    "  \n",
    "    \n",
    "    r=var\n",
    "\n",
    "    W=Ws[L-1]\n",
    "    \n",
    "    Omega=(k1**2* W@Omega@W.T+ks**2*np.eye(k)).copy()\n",
    "    \n",
    "    Phi=(W@Phi*k1).copy()\n",
    "    \n",
    " \n",
    "    \n",
    "    errors[L]=replica(alphas*d/k,Psi,Omega, Phi,theta,lamb=0.001)[\"test_error\"]\n",
    "    \n",
    "    \n",
    "    \n",
    "    \n",
    "\n",
    "\n"
   ]
  },
  {
   "cell_type": "code",
   "execution_count": 12,
   "id": "composite-nelson",
   "metadata": {},
   "outputs": [
    {
     "data": {
      "text/plain": [
       "Text(0, 0.5, '$\\\\epsilon_g$')"
      ]
     },
     "execution_count": 12,
     "metadata": {},
     "output_type": "execute_result"
    },
    {
     "data": {
      "image/png": "[encoded data removed]",
      "text/plain": [
       "<Figure size 432x288 with 1 Axes>"
      ]
     },
     "metadata": {
      "needs_background": "light"
     },
     "output_type": "display_data"
    }
   ],
   "source": [
    "for L in errors.keys():\n",
    "    plt.plot(alphas, errors[L],label=\"layer \"+str(L),linewidth=1.3)\n",
    "\n",
    "plt.legend()\n",
    "plt.xlabel(r\"$n/d$\")\n",
    "plt.ylabel(r\"$\\epsilon_g$\")\n"
   ]
  },
  {
   "cell_type": "code",
   "execution_count": null,
   "id": "homeless-tampa",
   "metadata": {},
   "outputs": [],
   "source": []
  }
 ],
 "metadata": {
  "kernelspec": {
   "display_name": "Python 3",
   "language": "python",
   "name": "python3"
  },
  "language_info": {
   "codemirror_mode": {
    "name": "ipython",
    "version": 3
   },
   "file_extension": ".py",
   "mimetype": "text/x-python",
   "name": "python",
   "nbconvert_exporter": "python",
   "pygments_lexer": "ipython3",
   "version": "3.8.8"
  }
 },
 "nbformat": 4,
 "nbformat_minor": 5
}
